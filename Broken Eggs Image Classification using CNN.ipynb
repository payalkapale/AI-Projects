{
 "cells": [
  {
   "cell_type": "markdown",
   "id": "9f616c85",
   "metadata": {},
   "source": [
    "# Title : Broken Eggs Recognition Image Dataset"
   ]
  },
  {
   "cell_type": "markdown",
   "id": "a5467010",
   "metadata": {},
   "source": [
    "## About Dataset"
   ]
  },
  {
   "cell_type": "markdown",
   "id": "e2a8275b",
   "metadata": {},
   "source": [
    "Here we have an image bank of eggs divided into 3 classes (Broken, Empty or Good), we have 569 images divided between Training and Test, here in this study we will analyze the images and perform all the training of the neural network using CNN to perform the classification of these images."
   ]
  },
  {
   "cell_type": "markdown",
   "id": "a1f2ff6b",
   "metadata": {},
   "source": [
    "### Importing Libraries"
   ]
  },
  {
   "cell_type": "code",
   "execution_count": 1,
   "id": "c1ea1d54",
   "metadata": {},
   "outputs": [
    {
     "name": "stdout",
     "output_type": "stream",
     "text": [
      "WARNING:tensorflow:From C:\\Users\\ASUS\\AppData\\Roaming\\Python\\Python311\\site-packages\\keras\\src\\losses.py:2976: The name tf.losses.sparse_softmax_cross_entropy is deprecated. Please use tf.compat.v1.losses.sparse_softmax_cross_entropy instead.\n",
      "\n"
     ]
    },
    {
     "name": "stderr",
     "output_type": "stream",
     "text": [
      "C:\\Users\\ASUS\\AppData\\Roaming\\Python\\Python311\\site-packages\\pandas\\core\\arrays\\masked.py:60: UserWarning: Pandas requires version '1.3.6' or newer of 'bottleneck' (version '1.3.5' currently installed).\n",
      "  from pandas.core import (\n"
     ]
    }
   ],
   "source": [
    "import numpy as np\n",
    "\n",
    "import tensorflow as tf\n",
    "from tensorflow.keras.preprocessing.image import ImageDataGenerator \n",
    "from tensorflow.keras.models import Sequential \n",
    "from tensorflow.keras.layers import Conv2D,MaxPool2D,Flatten,Dense,Dropout \n",
    "\n",
    "import os\n",
    "import warnings\n",
    "warnings.filterwarnings(\"ignore\")\n"
   ]
  },
  {
   "cell_type": "markdown",
   "id": "a91b091b",
   "metadata": {},
   "source": [
    "### Load Dataset"
   ]
  },
  {
   "cell_type": "code",
   "execution_count": 16,
   "id": "21ffd1bf",
   "metadata": {},
   "outputs": [],
   "source": [
    "train_dir = r\"C:\\Users\\ASUS\\Downloads\\train\"\n",
    "test_dir = r\"C:\\Users\\ASUS\\Downloads\\test\"\n"
   ]
  },
  {
   "cell_type": "markdown",
   "id": "65e793ac",
   "metadata": {},
   "source": [
    "*Defines two variables train_dir and test_dir which contain the file paths of the training and testing datasets, respectively. \n"
   ]
  },
  {
   "cell_type": "code",
   "execution_count": 38,
   "id": "3f7a2b2f",
   "metadata": {},
   "outputs": [],
   "source": [
    "\n",
    "img_width,img_height=200,200\n"
   ]
  },
  {
   "cell_type": "markdown",
   "id": "ad32b76b",
   "metadata": {},
   "source": [
    "*For all images in one size.\n"
   ]
  },
  {
   "cell_type": "code",
   "execution_count": 54,
   "id": "ef8545fb",
   "metadata": {},
   "outputs": [],
   "source": [
    "#batch_size=4\n",
    "batch_size=8"
   ]
  },
  {
   "cell_type": "code",
   "execution_count": 55,
   "id": "6035d917",
   "metadata": {},
   "outputs": [],
   "source": [
    "\n",
    "train_dataset = ImageDataGenerator(\n",
    "    rescale = 1. /255,            \n",
    "    rotation_range = 20,          \n",
    "    width_shift_range = 0.2,      \n",
    "    height_shift_range = 0.2,\n",
    "    shear_range = 0.2,            \n",
    "    zoom_range = 0.2,             \n",
    "    horizontal_flip = True\n",
    "    \n",
    "    )\n"
   ]
  },
  {
   "cell_type": "markdown",
   "id": "e06bf7d3",
   "metadata": {},
   "source": [
    "*ImageDataGenerator(rescale=1./255): Here, an ImageDataGenerator object is created. This object will be used to \n",
    "augment the image data during training and validation. The rescale=1./255 argument scales the pixel values of the \n",
    "images between 0 and 1, which is a common practice for neural networks that use image data."
   ]
  },
  {
   "cell_type": "code",
   "execution_count": 56,
   "id": "704dd208",
   "metadata": {},
   "outputs": [],
   "source": [
    "\n",
    "test_dataset = ImageDataGenerator(rescale = 1. /255) "
   ]
  },
  {
   "cell_type": "markdown",
   "id": "9da0d9b2",
   "metadata": {},
   "source": [
    "### Data Preprocessing"
   ]
  },
  {
   "cell_type": "code",
   "execution_count": 57,
   "id": "4f694a08",
   "metadata": {},
   "outputs": [
    {
     "name": "stdout",
     "output_type": "stream",
     "text": [
      "Found 542 images belonging to 3 classes.\n"
     ]
    }
   ],
   "source": [
    "\n",
    "X_train = train_dataset.flow_from_directory(\n",
    "    train_dir,\n",
    "    target_size=(img_width, img_height),# number of pixel\n",
    "    batch_size=batch_size,\n",
    "    class_mode=\"categorical\"\n",
    ")\n"
   ]
  },
  {
   "cell_type": "markdown",
   "id": "58e15e33",
   "metadata": {},
   "source": [
    "This train_dataset is created using train_dataset.flow_from_directory() to flow image data from the train Dataset.It takes     the file paths ('Filepath')"
   ]
  },
  {
   "cell_type": "markdown",
   "id": "70d69dc5",
   "metadata": {},
   "source": [
    "target_size: The size to which all the images will be resized during the loading process."
   ]
  },
  {
   "cell_type": "markdown",
   "id": "f4b01c2b",
   "metadata": {},
   "source": [
    "batch_size: The number of samples in each batch."
   ]
  },
  {
   "cell_type": "markdown",
   "id": "87f109b7",
   "metadata": {},
   "source": [
    "class_mode: the labels are represented in a categorical format (class_mode='categorical')."
   ]
  },
  {
   "cell_type": "code",
   "execution_count": 58,
   "id": "c53b26d0",
   "metadata": {},
   "outputs": [
    {
     "data": {
      "text/plain": [
       "68"
      ]
     },
     "execution_count": 58,
     "metadata": {},
     "output_type": "execute_result"
    }
   ],
   "source": [
    "\n",
    "len(X_train)\n"
   ]
  },
  {
   "cell_type": "code",
   "execution_count": 59,
   "id": "d00237d5",
   "metadata": {},
   "outputs": [
    {
     "name": "stdout",
     "output_type": "stream",
     "text": [
      "Found 32 images belonging to 3 classes.\n"
     ]
    }
   ],
   "source": [
    "\n",
    "X_test = test_dataset.flow_from_directory(\n",
    "    test_dir,\n",
    "    target_size=(img_width, img_height),\n",
    "    batch_size=batch_size,\n",
    "    class_mode=\"categorical\"\n",
    ")\n"
   ]
  },
  {
   "cell_type": "markdown",
   "id": "be7a09c4",
   "metadata": {},
   "source": [
    "This  is similar to X_train but is created for the validation data."
   ]
  },
  {
   "cell_type": "code",
   "execution_count": 60,
   "id": "05bbfeca",
   "metadata": {},
   "outputs": [],
   "source": [
    "\n",
    "model = Sequential([\n",
    "    Conv2D(32, (3,3), activation=\"relu\",input_shape = (img_width, img_height, 3)),  \n",
    "    MaxPool2D((2,2)),\n",
    "\n",
    "    Conv2D(64, (3,3),activation=\"relu\"),  # 3x3 ka 1 filter  #img shape=(512, 512, 3=color channel)\n",
    "    MaxPool2D((2,2)),\n",
    "    \n",
    "    Dropout(0.5),\n",
    "    Conv2D(128,(3,3), activation=\"relu\"),\n",
    "    MaxPool2D((2,2)),\n",
    "    \n",
    "    Conv2D(128,(3,3), activation=\"relu\"),\n",
    "    MaxPool2D((2,2)),\n",
    "    \n",
    "    Flatten(),   # convert in 1D\n",
    "    Dense(512, activation=\"relu\"),#hidden\n",
    "    Dense(256, activation=\"relu\"),#h\n",
    "    Dense(3, activation=\"softmax\") #output\n",
    "    \n",
    "])"
   ]
  },
  {
   "cell_type": "markdown",
   "id": "afd84684",
   "metadata": {},
   "source": [
    "Defines a simple Convolutional Neural Network (CNN) model using the tensorflow.Keras.model import Sequential."
   ]
  },
  {
   "cell_type": "markdown",
   "id": "31ba5b69",
   "metadata": {},
   "source": [
    "It uses convolutional and pooling layers to extract features from the input image, followed by fully connected layers for\n",
    "classification. The dropout layer helps prevent overfitting during training. The softmax activation in the output layer \n",
    "provides probabilities for each class."
   ]
  },
  {
   "cell_type": "markdown",
   "id": "736f76e2",
   "metadata": {},
   "source": [
    "Conv2D is the first convolutional layer with 32 filters, each of size (3,3), using the ReLU activation function.\n",
    "The input_shape parameter defines the shape of your input data, which is assumed to be an image with img_width, \n",
    "img_height, and 3 color channels (RGB).    \n",
    "    \n",
    "MaxPool2D layer performs max pooling with a pool size of (2,2). It reduces the dimensions (width and height) of the\n",
    "input by taking the maximum value in a 2x2 window."
   ]
  },
  {
   "cell_type": "markdown",
   "id": "8b7b7629",
   "metadata": {},
   "source": [
    "Flatten layer flattens the output of the previous layer into a one-dimensional vector. It prepares the data for the fully \n",
    "connected layers."
   ]
  },
  {
   "cell_type": "markdown",
   "id": "f876f5cf",
   "metadata": {},
   "source": [
    "Two hidden dense layers with 512 and 256 neurons, respectively, and ReLU activation functions. These layers are fully connected."
   ]
  },
  {
   "cell_type": "markdown",
   "id": "2268ed7a",
   "metadata": {},
   "source": [
    "The output layer with 3 neurons (we have classification task with 3 classes) and softmax activation. "
   ]
  },
  {
   "cell_type": "code",
   "execution_count": 61,
   "id": "654b8be2",
   "metadata": {},
   "outputs": [],
   "source": [
    "\n",
    "model.compile(optimizer=\"adam\", loss = \"categorical_crossentropy\", metrics=[\"accuracy\"])\n"
   ]
  },
  {
   "cell_type": "markdown",
   "id": "6b6060ef",
   "metadata": {},
   "source": [
    "The optimizer is the algorithm used to update the weights of the neural network in order to minimize the loss function. "
   ]
  },
  {
   "cell_type": "markdown",
   "id": "df5c3a31",
   "metadata": {},
   "source": [
    "loss='categorical_crossentropy': The categorical cross-entropy loss is commonly used for multi-class classification problems.\n"
   ]
  },
  {
   "cell_type": "markdown",
   "id": "7d3995da",
   "metadata": {},
   "source": [
    "Metrics are used to evaluate the performance of the model during training and testing. "
   ]
  },
  {
   "cell_type": "code",
   "execution_count": 62,
   "id": "760846ff",
   "metadata": {},
   "outputs": [
    {
     "name": "stdout",
     "output_type": "stream",
     "text": [
      "Epoch 1/10\n",
      "68/68 [==============================] - 19s 202ms/step - loss: 1.1468 - accuracy: 0.3967 - val_loss: 0.8481 - val_accuracy: 0.5625\n",
      "Epoch 2/10\n",
      "68/68 [==============================] - 13s 185ms/step - loss: 0.7136 - accuracy: 0.6642 - val_loss: 0.6651 - val_accuracy: 0.6250\n",
      "Epoch 3/10\n",
      "68/68 [==============================] - 13s 188ms/step - loss: 0.5047 - accuracy: 0.6790 - val_loss: 0.4582 - val_accuracy: 0.8125\n",
      "Epoch 4/10\n",
      "68/68 [==============================] - 13s 188ms/step - loss: 0.4595 - accuracy: 0.7066 - val_loss: 0.4631 - val_accuracy: 0.7188\n",
      "Epoch 5/10\n",
      "68/68 [==============================] - 13s 192ms/step - loss: 0.4613 - accuracy: 0.7177 - val_loss: 0.4967 - val_accuracy: 0.6250\n",
      "Epoch 6/10\n",
      "68/68 [==============================] - 13s 197ms/step - loss: 0.4548 - accuracy: 0.7269 - val_loss: 0.3917 - val_accuracy: 0.8438\n",
      "Epoch 7/10\n",
      "68/68 [==============================] - 14s 200ms/step - loss: 0.4563 - accuracy: 0.7214 - val_loss: 0.4457 - val_accuracy: 0.7812\n",
      "Epoch 8/10\n",
      "68/68 [==============================] - 14s 201ms/step - loss: 0.4459 - accuracy: 0.7251 - val_loss: 0.4439 - val_accuracy: 0.7500\n",
      "Epoch 9/10\n",
      "68/68 [==============================] - 14s 200ms/step - loss: 0.4234 - accuracy: 0.7565 - val_loss: 0.4057 - val_accuracy: 0.8125\n",
      "Epoch 10/10\n",
      "68/68 [==============================] - 14s 202ms/step - loss: 0.4702 - accuracy: 0.7122 - val_loss: 0.4389 - val_accuracy: 0.7812\n"
     ]
    }
   ],
   "source": [
    "history = model.fit(X_train,\n",
    "                    validation_data=X_test,\n",
    "                    steps_per_epoch=len(X_train),\n",
    "                    validation_steps=len(X_test),\n",
    "                    verbose=1,\n",
    "                    epochs=10)"
   ]
  },
  {
   "cell_type": "markdown",
   "id": "b4e0e804",
   "metadata": {},
   "source": [
    "#### Compile and train the defined model."
   ]
  },
  {
   "cell_type": "markdown",
   "id": "ea59b23a",
   "metadata": {},
   "source": [
    "model.fit() :The model.fit() function in Keras is used to train the neural network model.\n",
    "\n",
    "X_train :This is the input training data that you'll use to train your model.\n",
    "\n",
    "epochs: The number of training epochs, i.e., the number of times the model will iterate over the entire training dataset.\n",
    "\n",
    "The validation_data parameter allows you to provide a separate dataset (here, X_test) for evaluating the model's performance during training."
   ]
  },
  {
   "cell_type": "markdown",
   "id": "d93c2841",
   "metadata": {},
   "source": [
    "# Visualization"
   ]
  },
  {
   "cell_type": "code",
   "execution_count": 66,
   "id": "f28d5794",
   "metadata": {},
   "outputs": [],
   "source": [
    "import matplotlib.pyplot as plt"
   ]
  },
  {
   "cell_type": "code",
   "execution_count": 64,
   "id": "ca3d5968",
   "metadata": {},
   "outputs": [
    {
     "data": {
      "image/png": "[encoded data removed]",
      "text/plain": [
       "<Figure size 640x480 with 1 Axes>"
      ]
     },
     "metadata": {},
     "output_type": "display_data"
    }
   ],
   "source": [
    "plt.plot(history.history[\"accuracy\"])\n",
    "plt.plot(history.history[\"val_accuracy\"])\n",
    "plt.title(\"Model Accuracy\")\n",
    "plt.xlabel(\"Epochs\")\n",
    "plt.ylabel(\"Accuracy\")\n",
    "plt.legend([\"Train\",\"Validation\"])\n",
    "plt.show()"
   ]
  },
  {
   "cell_type": "markdown",
   "id": "40cf6943",
   "metadata": {},
   "source": [
    "#### Visualize the model accuracy at training and validation time."
   ]
  },
  {
   "cell_type": "code",
   "execution_count": 65,
   "id": "7c062d9a",
   "metadata": {},
   "outputs": [
    {
     "data": {
      "image/png": "[encoded data removed]",
      "text/plain": [
       "<Figure size 640x480 with 1 Axes>"
      ]
     },
     "metadata": {},
     "output_type": "display_data"
    }
   ],
   "source": [
    "plt.plot(history.history[\"loss\"])\n",
    "plt.plot(history.history[\"val_loss\"])\n",
    "plt.title(\"Model Loss\")\n",
    "plt.xlabel(\"Epochs\")\n",
    "plt.ylabel(\"Loss\")\n",
    "plt.legend([\"Train\",\"Validation\"])\n",
    "plt.show()"
   ]
  },
  {
   "cell_type": "markdown",
   "id": "ce0abb80",
   "metadata": {},
   "source": [
    "#### Visualize the model loss at training and validation time."
   ]
  },
  {
   "cell_type": "code",
   "execution_count": 67,
   "id": "99ec3969",
   "metadata": {},
   "outputs": [],
   "source": [
    "class_labels = X_train.class_indices"
   ]
  },
  {
   "cell_type": "markdown",
   "id": "2fa2c765",
   "metadata": {},
   "source": [
    "The class_indices attribute contains a dictionary that maps class names to their corresponding indices."
   ]
  },
  {
   "cell_type": "code",
   "execution_count": 68,
   "id": "4158b799",
   "metadata": {},
   "outputs": [
    {
     "name": "stdout",
     "output_type": "stream",
     "text": [
      "Class Names: {0: 'Crack', 1: 'Empty', 2: 'Good'}\n"
     ]
    }
   ],
   "source": [
    "class_names = {value: key for key, value in class_labels.items()}\n",
    "\n",
    "print(\"Class Names:\", class_names)"
   ]
  },
  {
   "cell_type": "markdown",
   "id": "5ffd6d4a",
   "metadata": {},
   "source": [
    "class_labels.items(): This method returns a view of the dictionary's key-value pairs. {value: key for key, value in class_labels.items()}: This is a dictionary comprehension. It iterates over each key-value pair in class_labels"
   ]
  },
  {
   "cell_type": "code",
   "execution_count": 69,
   "id": "c3bbfc71",
   "metadata": {},
   "outputs": [],
   "source": [
    "from tensorflow.keras.preprocessing import image"
   ]
  },
  {
   "cell_type": "code",
   "execution_count": 87,
   "id": "f98b068e",
   "metadata": {},
   "outputs": [],
   "source": [
    "#img_path=r\"C:\\Users\\ASUS\\Downloads\\Crack egg.jpg\"\n",
    "#img_path = r\"C:\\Users\\ASUS\\Downloads\\Good_egg.jpg\"\n",
    "img_path = r\"C:\\Users\\ASUS\\Downloads\\test\\Good\\2023-04-09 20_18_34.437531.jpg\""
   ]
  },
  {
   "cell_type": "markdown",
   "id": "032737ca",
   "metadata": {},
   "source": [
    "We are using a random image from dataset to identify its class."
   ]
  },
  {
   "cell_type": "code",
   "execution_count": 88,
   "id": "22856ed7",
   "metadata": {},
   "outputs": [],
   "source": [
    "img = image.load_img(img_path, target_size = (img_width,img_height))"
   ]
  },
  {
   "cell_type": "markdown",
   "id": "430de1ac",
   "metadata": {},
   "source": [
    "This function loads an image from the specified file path (img_path) and resizes it to the specified target size."
   ]
  },
  {
   "cell_type": "code",
   "execution_count": 89,
   "id": "955e1160",
   "metadata": {},
   "outputs": [],
   "source": [
    "img_arr = image.img_to_array(img)"
   ]
  },
  {
   "cell_type": "markdown",
   "id": "90c6bcc6",
   "metadata": {},
   "source": [
    "This function converts a image into a NumPy array."
   ]
  },
  {
   "cell_type": "code",
   "execution_count": 90,
   "id": "e79ba4d2",
   "metadata": {},
   "outputs": [],
   "source": [
    "img_arr = np.expand_dims(img_arr, axis=0)"
   ]
  },
  {
   "cell_type": "markdown",
   "id": "bd44c1a6",
   "metadata": {},
   "source": [
    "The np.expand_dims function is used to add a new dimension to the array. It takes the array (img_arr) and adds a new dimension along the specified axis."
   ]
  },
  {
   "cell_type": "code",
   "execution_count": 91,
   "id": "373dc48b",
   "metadata": {},
   "outputs": [],
   "source": [
    "img_arr = img_arr / 255.0"
   ]
  },
  {
   "cell_type": "markdown",
   "id": "ccb2ca3c",
   "metadata": {},
   "source": [
    "It is normalizing the pixel values in the NumPy array img_arr. This process scales the original pixel values, which typically range from 0 to 255, to a standardized range between 0 and 1."
   ]
  },
  {
   "cell_type": "code",
   "execution_count": 92,
   "id": "eac91ed4",
   "metadata": {},
   "outputs": [
    {
     "name": "stdout",
     "output_type": "stream",
     "text": [
      "1/1 [==============================] - 0s 55ms/step\n"
     ]
    }
   ],
   "source": [
    "pred = model.predict(img_arr)"
   ]
  },
  {
   "cell_type": "markdown",
   "id": "8b404883",
   "metadata": {},
   "source": [
    "This method is used to obtain predictions from a trained neural network model. It takes input data and produces predictions based on the learned patterns."
   ]
  },
  {
   "cell_type": "code",
   "execution_count": 93,
   "id": "1092fd2e",
   "metadata": {},
   "outputs": [],
   "source": [
    "pred_class = np.argmax(pred)"
   ]
  },
  {
   "cell_type": "markdown",
   "id": "bd576343",
   "metadata": {},
   "source": [
    "argmax helps to identify the index of the class with the highest predicted probability, allowing you to determine the predicted class label."
   ]
  },
  {
   "cell_type": "code",
   "execution_count": 94,
   "id": "b70c8194",
   "metadata": {},
   "outputs": [
    {
     "data": {
      "text/plain": [
       "'Good'"
      ]
     },
     "execution_count": 94,
     "metadata": {},
     "output_type": "execute_result"
    }
   ],
   "source": [
    "class_names[pred_class]"
   ]
  },
  {
   "cell_type": "markdown",
   "id": "93a76d46",
   "metadata": {},
   "source": [
    "So, it predicts True."
   ]
  },
  {
   "cell_type": "markdown",
   "id": "7e568c12",
   "metadata": {},
   "source": [
    "Testing our model on the set of test images we obtained 78.12% accuracy, a good result, when we analyze the classes\n",
    "we can see that we had 100% success in  \"Crack\" and \"Good\" eggs and we missed some of the \"Empty\"and some \"Crack\" class."
   ]
  },
  {
   "cell_type": "code",
   "execution_count": null,
   "id": "12a99c0f",
   "metadata": {},
   "outputs": [],
   "source": []
  }
 ],
 "metadata": {
  "kernelspec": {
   "display_name": "Python 3 (ipykernel)",
   "language": "python",
   "name": "python3"
  },
  "language_info": {
   "codemirror_mode": {
    "name": "ipython",
    "version": 3
   },
   "file_extension": ".py",
   "mimetype": "text/x-python",
   "name": "python",
   "nbconvert_exporter": "python",
   "pygments_lexer": "ipython3",
   "version": "3.11.3"
  }
 },
 "nbformat": 4,
 "nbformat_minor": 5
}
